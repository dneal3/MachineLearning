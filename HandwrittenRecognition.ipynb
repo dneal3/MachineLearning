{
  "nbformat": 4,
  "nbformat_minor": 0,
  "metadata": {
    "colab": {
      "name": "CIS472FinalProject.ipynb",
      "provenance": [],
      "collapsed_sections": [],
      "include_colab_link": true
    },
    "kernelspec": {
      "name": "python3",
      "display_name": "Python 3"
    }
  },
  "cells": [
    {
      "cell_type": "markdown",
      "metadata": {
        "id": "view-in-github",
        "colab_type": "text"
      },
      "source": [
        "<a href=\"https://colab.research.google.com/github/dneal3/MachineLearning/blob/master/HandwrittenRecognition.ipynb\" target=\"_parent\"><img src=\"https://colab.research.google.com/assets/colab-badge.svg\" alt=\"Open In Colab\"/></a>"
      ]
    },
    {
      "cell_type": "markdown",
      "metadata": {
        "id": "rQwxhnBoe1bB",
        "colab_type": "text"
      },
      "source": [
        "\n",
        "# Setting up Imports and Important Variables"
      ]
    },
    {
      "cell_type": "code",
      "metadata": {
        "id": "tKh28t0QR59u",
        "colab_type": "code",
        "colab": {}
      },
      "source": [
        "import torch\n",
        "import torchvision"
      ],
      "execution_count": 0,
      "outputs": []
    },
    {
      "cell_type": "code",
      "metadata": {
        "id": "hFLx0bqPebRA",
        "colab_type": "code",
        "outputId": "db76a0e7-1665-40d7-f8f6-80497caac233",
        "colab": {
          "base_uri": "https://localhost:8080/",
          "height": 122
        }
      },
      "source": [
        "n_epochs = 20\n",
        "batch_size_train = 64\n",
        "batch_size_test = 1000\n",
        "learning_rate = 0.001\n",
        "momentum = 0.5\n",
        "log_interval = 10\n",
        "\n",
        "random_seed = 1\n",
        "torch.backends.cudnn.enabled = False\n",
        "torch.manual_seed(random_seed)\n",
        "\n",
        "from google.colab import drive\n",
        "drive.mount('/content/drive') # files in Drive are accessable from /content/drive/my Drive/...\n",
        "# Unfortunately This code is not usuable by anyone other than me as I am not providing the dataset because it is hosted on my own google drive"
      ],
      "execution_count": 0,
      "outputs": [
        {
          "output_type": "stream",
          "text": [
            "Go to this URL in a browser: https://accounts.google.com/o/oauth2/auth?client_id=947318989803-6bn6qk8qdgf4n4g3pfee6491hc0brc4i.apps.googleusercontent.com&redirect_uri=urn%3Aietf%3Awg%3Aoauth%3A2.0%3Aoob&scope=email%20https%3A%2F%2Fwww.googleapis.com%2Fauth%2Fdocs.test%20https%3A%2F%2Fwww.googleapis.com%2Fauth%2Fdrive%20https%3A%2F%2Fwww.googleapis.com%2Fauth%2Fdrive.photos.readonly%20https%3A%2F%2Fwww.googleapis.com%2Fauth%2Fpeopleapi.readonly&response_type=code\n",
            "\n",
            "Enter your authorization code:\n",
            "··········\n",
            "Mounted at /content/drive\n"
          ],
          "name": "stdout"
        }
      ]
    },
    {
      "cell_type": "markdown",
      "metadata": {
        "id": "L4-6umeIUpsi",
        "colab_type": "text"
      },
      "source": [
        "# Loading in the MNIST data set\n",
        "> We can use this data in order to test if our models work well on this data set, and then use the data set we have created in order to create the model we are actually seeking\n",
        "\n",
        "> As a disclaimer much of this code was not created by me, but was given in CIS 472 Programming Assignment 2. Some may also be taken from some of my references, if taken from a reference I will cite it in that code block \n"
      ]
    },
    {
      "cell_type": "code",
      "metadata": {
        "id": "nhS5dDBzeNM6",
        "colab_type": "code",
        "outputId": "4f702584-8efb-4fba-d200-189f4684a01c",
        "colab": {
          "base_uri": "https://localhost:8080/",
          "height": 275
        }
      },
      "source": [
        "train_loader = torch.utils.data.DataLoader(\n",
        "  torchvision.datasets.MNIST('/files/', train=True, download=True, \n",
        "                             transform=torchvision.transforms.Compose([\n",
        "                               torchvision.transforms.ToTensor(),\n",
        "                               torchvision.transforms.Normalize(\n",
        "                                 (0.1307,), (0.3081,))\n",
        "                             ])),\n",
        "  batch_size=batch_size_train, shuffle=True)\n",
        "\n",
        "test_loader = torch.utils.data.DataLoader(\n",
        "  torchvision.datasets.MNIST('/files/', train=False, download=True,\n",
        "                             transform=torchvision.transforms.Compose([\n",
        "                               torchvision.transforms.ToTensor(),\n",
        "                               torchvision.transforms.Normalize(\n",
        "                                 (0.1307,), (0.3081,))\n",
        "                             ])),\n",
        "  batch_size=batch_size_test, shuffle=True)"
      ],
      "execution_count": 0,
      "outputs": [
        {
          "output_type": "stream",
          "text": [
            "\r0it [00:00, ?it/s]"
          ],
          "name": "stderr"
        },
        {
          "output_type": "stream",
          "text": [
            "Downloading http://yann.lecun.com/exdb/mnist/train-images-idx3-ubyte.gz to /files/MNIST/raw/train-images-idx3-ubyte.gz\n"
          ],
          "name": "stdout"
        },
        {
          "output_type": "stream",
          "text": [
            "9920512it [00:01, 8795242.87it/s]                            \n"
          ],
          "name": "stderr"
        },
        {
          "output_type": "stream",
          "text": [
            "Extracting /files/MNIST/raw/train-images-idx3-ubyte.gz\n"
          ],
          "name": "stdout"
        },
        {
          "output_type": "stream",
          "text": [
            "  0%|          | 0/28881 [00:00<?, ?it/s]"
          ],
          "name": "stderr"
        },
        {
          "output_type": "stream",
          "text": [
            "Downloading http://yann.lecun.com/exdb/mnist/train-labels-idx1-ubyte.gz to /files/MNIST/raw/train-labels-idx1-ubyte.gz\n"
          ],
          "name": "stdout"
        },
        {
          "output_type": "stream",
          "text": [
            "32768it [00:00, 138791.90it/s]           \n",
            "  0%|          | 0/1648877 [00:00<?, ?it/s]"
          ],
          "name": "stderr"
        },
        {
          "output_type": "stream",
          "text": [
            "Extracting /files/MNIST/raw/train-labels-idx1-ubyte.gz\n",
            "Downloading http://yann.lecun.com/exdb/mnist/t10k-images-idx3-ubyte.gz to /files/MNIST/raw/t10k-images-idx3-ubyte.gz\n"
          ],
          "name": "stdout"
        },
        {
          "output_type": "stream",
          "text": [
            "1654784it [00:00, 2313800.98it/s]                            \n",
            "0it [00:00, ?it/s]"
          ],
          "name": "stderr"
        },
        {
          "output_type": "stream",
          "text": [
            "Extracting /files/MNIST/raw/t10k-images-idx3-ubyte.gz\n",
            "Downloading http://yann.lecun.com/exdb/mnist/t10k-labels-idx1-ubyte.gz to /files/MNIST/raw/t10k-labels-idx1-ubyte.gz\n"
          ],
          "name": "stdout"
        },
        {
          "output_type": "stream",
          "text": [
            "8192it [00:00, 51627.01it/s]            \n"
          ],
          "name": "stderr"
        },
        {
          "output_type": "stream",
          "text": [
            "Extracting /files/MNIST/raw/t10k-labels-idx1-ubyte.gz\n",
            "Processing...\n",
            "Done!\n"
          ],
          "name": "stdout"
        }
      ]
    },
    {
      "cell_type": "code",
      "metadata": {
        "id": "bM1DMyQ0aYKJ",
        "colab_type": "code",
        "colab": {}
      },
      "source": [
        "train_data_root = '/content/drive/My Drive/Colab Notebooks/training-images'\n",
        "valid_data_root = '/content/drive/My Drive/Colab Notebooks/valid-images'\n",
        "train_transform = torchvision.transforms.Compose([torchvision.transforms.Grayscale(), torchvision.transforms.ToTensor(), torchvision.transforms.Normalize((0.1042,), (0.2175,))])\n",
        "valid_transform = torchvision.transforms.Compose([torchvision.transforms.Grayscale(), torchvision.transforms.ToTensor(), torchvision.transforms.Normalize((0.0937,), (0.2008,))])\n",
        "\n",
        "train_dataset = torchvision.datasets.ImageFolder(root=train_data_root, transform=train_transform)\n",
        "valid_dataset = torchvision.datasets.ImageFolder(root=valid_data_root, transform=valid_transform)\n",
        "\n",
        "my_data_train_loader = torch.utils.data.DataLoader(train_dataset, batch_size=16, shuffle=True)\n",
        "my_data_valid_loader = torch.utils.data.DataLoader(valid_dataset, batch_size=20, shuffle=True) # this will essentially be serving ad the validation set"
      ],
      "execution_count": 0,
      "outputs": []
    },
    {
      "cell_type": "code",
      "metadata": {
        "id": "Sqd92LcheQ4W",
        "colab_type": "code",
        "colab": {}
      },
      "source": [
        "examples = enumerate(test_loader)\n",
        "batch_idx, (example_data, example_targets) = next(examples)\n",
        "\n",
        "my_examples = enumerate(my_data_valid_loader)\n",
        "batch_idx2, (my_example_data, my_example_targets) = next(my_examples)\n"
      ],
      "execution_count": 0,
      "outputs": []
    },
    {
      "cell_type": "code",
      "metadata": {
        "id": "9WOxxy__eRbA",
        "colab_type": "code",
        "outputId": "47ffe265-487a-48af-bf90-c4e60575d747",
        "colab": {
          "base_uri": "https://localhost:8080/",
          "height": 539
        }
      },
      "source": [
        "import matplotlib.pyplot as plt\n",
        "\n",
        "fig = plt.figure()\n",
        "for i in range(6):\n",
        "  plt.subplot(2,3,i+1)\n",
        "  plt.tight_layout()\n",
        "  plt.imshow(my_example_data[i][0], cmap='gray', interpolation='none')\n",
        "  #plt.title(\"Ground Truth: {}\".format(my_example_targets[i]))\n",
        "  plt.xticks([])\n",
        "  plt.yticks([])\n",
        "fig"
      ],
      "execution_count": 0,
      "outputs": [
        {
          "output_type": "execute_result",
          "data": {
            "image/png": "[encoded data removed]",
            "text/plain": [
              "<Figure size 432x288 with 6 Axes>"
            ]
          },
          "metadata": {
            "tags": []
          },
          "execution_count": 6
        },
        {
          "output_type": "display_data",
          "data": {
            "image/png": "[encoded data removed]",
            "text/plain": [
              "<Figure size 432x288 with 6 Axes>"
            ]
          },
          "metadata": {
            "tags": []
          }
        }
      ]
    },
    {
      "cell_type": "markdown",
      "metadata": {
        "id": "nGR_GcyzVSQL",
        "colab_type": "text"
      },
      "source": [
        "# Creating the Models\n",
        "\n",
        "> I plan on using multiple models in order to add another layer of analysis to this project, and I will be declaring them in this section. Each model will be sufficiently different and there will be a short description of what each does, and how they are different from those declared above. They will also be thouroughly described in the Experiment portion of the description at the top of this notebook. \n",
        "\n",
        "> One of these Models is  a multi layered perceptron. Commonly during my research I have seen the comparison of of convolutional neural nets to that of a multi layered perceptron, so I'll be using a MLP with a hidden layer containing 128 relu neurons."
      ]
    },
    {
      "cell_type": "code",
      "metadata": {
        "id": "ITgAZ1RreiFZ",
        "colab_type": "code",
        "colab": {}
      },
      "source": [
        "import torch.nn as nn\n",
        "import torch.nn.functional as F\n",
        "import torch.optim as optim"
      ],
      "execution_count": 0,
      "outputs": []
    },
    {
      "cell_type": "code",
      "metadata": {
        "id": "dpQJgNLhetZB",
        "colab_type": "code",
        "colab": {}
      },
      "source": [
        "# This model from https://adventuresinmachinelearning.com/convolutional-neural-networks-tutorial-in-pytorch/\n",
        "\n",
        "# All of these models are described in my Final Paper, refer to that for understanding and intuition on the models.\n",
        "\n",
        "class TLConvNet(nn.Module):\n",
        "    def __init__(self):\n",
        "        super(TLConvNet, self).__init__()\n",
        "        self.layer1 = nn.Sequential(\n",
        "            nn.Conv2d(1, 32, kernel_size=5, stride=1, padding=1),\n",
        "            nn.ReLU(),\n",
        "            nn.MaxPool2d(kernel_size=3, stride=2))\n",
        "        self.layer2 = nn.Sequential(\n",
        "            nn.Conv2d(32, 64, kernel_size=5, stride=1, padding=1),\n",
        "            nn.ReLU(),\n",
        "            nn.MaxPool2d(kernel_size=3, stride=2))\n",
        "        self.drop_out = nn.Dropout()\n",
        "        self.fc1 = nn.Linear(1024, 750)\n",
        "        self.fc2 = nn.Linear(750, 26) \n",
        "    \n",
        "    def forward(self, x):\n",
        "      out = self.layer1(x)\n",
        "      out = self.layer2(out)\n",
        "      out = out.reshape(out.size(0), -1)\n",
        "      out = self.drop_out(out)\n",
        "      out = self.fc1(out)\n",
        "      out = self.fc2(out)\n",
        "      return F.log_softmax(out)"
      ],
      "execution_count": 0,
      "outputs": []
    },
    {
      "cell_type": "code",
      "metadata": {
        "id": "YyU3XJOuOwpc",
        "colab_type": "code",
        "colab": {}
      },
      "source": [
        "class OLConvNet(nn.Module):\n",
        "    def __init__(self):\n",
        "        super(OLConvNet, self).__init__()\n",
        "        self.layer1 = nn.Sequential(\n",
        "            nn.Conv2d(1, 32, kernel_size=5, stride=1, padding=1),\n",
        "            nn.ReLU(),\n",
        "            nn.MaxPool2d(kernel_size=3, stride=2))\n",
        "        self.drop_out = nn.Dropout()\n",
        "        self.fc1 = nn.Linear(4608, 750) # will need to change\n",
        "        self.fc2 = nn.Linear(750, 26) # change to 26 because alphabet\n",
        "    \n",
        "    def forward(self, x):\n",
        "      out = self.layer1(x)\n",
        "      out = out.reshape(out.size(0), -1)\n",
        "      out = self.drop_out(out)\n",
        "      out = self.fc1(out)\n",
        "      out = self.fc2(out)\n",
        "      return F.log_softmax(out)"
      ],
      "execution_count": 0,
      "outputs": []
    },
    {
      "cell_type": "code",
      "metadata": {
        "id": "n474Moi-4iRs",
        "colab_type": "code",
        "colab": {}
      },
      "source": [
        "# Feed-Foward Network that has 1 hidden layer with 128 relu acticated neurons in it, made by me for the extra credit assignment.\n",
        "class FFN128R(nn.Module): \n",
        "  def __init__(self):\n",
        "    super (FFN128R, self).__init__()\n",
        "    self.fc1 = nn.Linear(784, 128)\n",
        "    self.relu = nn.ReLU()\n",
        "    self.fc2 = nn.Linear(128, 26) # change to 26\n",
        "    \n",
        "  \n",
        "  def forward(self, x):\n",
        "    out = x.reshape(x.size(0), -1)\n",
        "    out = self.fc1(out)\n",
        "    out = self.relu(out)\n",
        "    out = self.fc2(out)\n",
        "    return F.log_softmax(out)"
      ],
      "execution_count": 0,
      "outputs": []
    },
    {
      "cell_type": "markdown",
      "metadata": {
        "id": "wCpD6_p-i25v",
        "colab_type": "text"
      },
      "source": [
        "# Training and Testing the Models\n",
        "\n",
        "> The training and testing functions I used for these are from the extra credit assignment that we did in class, The framework was already done, and it's tunable for my needs, so I figured I may as well use it to evaluate and train my models."
      ]
    },
    {
      "cell_type": "code",
      "metadata": {
        "id": "x44YBTKOLzeJ",
        "colab_type": "code",
        "colab": {}
      },
      "source": [
        "# initialize the network and optimize it using adam\n",
        "\n",
        "network = FFN128R()\n",
        "\n",
        "\n",
        "optimizer = optim.Adam(network.parameters(), lr=learning_rate)"
      ],
      "execution_count": 0,
      "outputs": []
    },
    {
      "cell_type": "code",
      "metadata": {
        "id": "gAhMq-EeMA5T",
        "colab_type": "code",
        "colab": {}
      },
      "source": [
        "# utility containers to record how training process goes, used for later visulaztions\n",
        "train_losses = []\n",
        "train_counter = []\n",
        "test_losses = []\n",
        "test_counter = [i*len(train_loader.dataset) for i in range(n_epochs + 1)]\n",
        "\n",
        "my_test_counter = [i*len(my_data_train_loader.dataset) for i in range(n_epochs + 1)]\n",
        "my_train_losses = []\n",
        "my_train_counter = []\n",
        "my_test_losses = []\n",
        "my_valid_accuracy_x = [i for i in range(n_epochs+1)]\n",
        "my_valid_accuracy_y = []\n",
        "\n",
        "def my_train(epoch):\n",
        "  network.train()\n",
        "  for batch_idx, (data, target) in enumerate(my_data_train_loader):\n",
        "    optimizer.zero_grad()\n",
        "    output = network(data)\n",
        "    loss = F.nll_loss(output, target)\n",
        "    loss.backward()\n",
        "    optimizer.step()\n",
        "    if batch_idx % log_interval == 0:\n",
        "      print('Train Epoch: {} [{}/{} ({:.0f}%)]\\tLoss: {:.6f}'.format(\n",
        "        epoch, batch_idx * len(data), len(my_data_train_loader.dataset),\n",
        "        100. * batch_idx / len(my_data_train_loader), loss.item()))\n",
        "      my_train_losses.append(loss.item())\n",
        "      my_train_counter.append(\n",
        "        (batch_idx*64) + ((epoch-1)*len(my_data_train_loader.dataset)))\n",
        "      \n",
        "\n",
        "def train(epoch):\n",
        "  network.train()\n",
        "  for batch_idx, (data, target) in enumerate(train_loader):\n",
        "    optimizer.zero_grad()\n",
        "    output = network(data)\n",
        "    loss = F.nll_loss(output, target)\n",
        "    loss.backward()\n",
        "    optimizer.step()\n",
        "    if batch_idx % log_interval == 0:\n",
        "      print('Train Epoch: {} [{}/{} ({:.0f}%)]\\tLoss: {:.6f}'.format(\n",
        "        epoch, batch_idx * len(data), len(train_loader.dataset),\n",
        "        100. * batch_idx / len(train_loader), loss.item()))\n",
        "      train_losses.append(loss.item())\n",
        "      train_counter.append(\n",
        "        (batch_idx*64) + ((epoch-1)*len(train_loader.dataset)))\n",
        "      "
      ],
      "execution_count": 0,
      "outputs": []
    },
    {
      "cell_type": "code",
      "metadata": {
        "id": "9U8DZPZa6lK4",
        "colab_type": "code",
        "colab": {}
      },
      "source": [
        "def my_test(): # this is testing the model against the validation set not an actual test set, as I am short of time it will have to suffice.\n",
        "  network.eval()\n",
        "  test_loss = 0\n",
        "  correct = 0\n",
        "  with torch.no_grad():\n",
        "    for data, target in my_data_valid_loader:\n",
        "      output = network(data)\n",
        "      test_loss += F.nll_loss(output, target, size_average=False).item()\n",
        "      pred = output.data.max(1, keepdim=True)[1]\n",
        "      correct += pred.eq(target.data.view_as(pred)).sum()\n",
        "  test_loss /= len(my_data_valid_loader.dataset)\n",
        "  my_test_losses.append(test_loss)\n",
        "  my_valid_accuracy_y.append(100. * int(correct) / len(my_data_valid_loader.dataset))\n",
        "  print('\\nTest set: Avg. loss: {:.4f}, Accuracy: {}/{} ({:.0f}%)\\n'.format(\n",
        "    test_loss, correct, len(my_data_valid_loader.dataset),\n",
        "    100. * correct / len(my_data_valid_loader.dataset)))\n",
        "\n",
        "def test():\n",
        "  network.eval()\n",
        "  test_loss = 0\n",
        "  correct = 0\n",
        "  with torch.no_grad():\n",
        "    for data, target in test_loader:\n",
        "      output = network(data)\n",
        "      test_loss += F.nll_loss(output, target, size_average=False).item()\n",
        "      pred = output.data.max(1, keepdim=True)[1]\n",
        "      correct += pred.eq(target.data.view_as(pred)).sum()\n",
        "  test_loss /= len(test_loader.dataset)\n",
        "  test_losses.append(test_loss)\n",
        "  my_valid_accuracy_y.append(100. * int(correct) / len(test_loader.dataset))\n",
        "  print('\\nTest set: Avg. loss: {:.4f}, Accuracy: {}/{} ({:.0f}%)\\n'.format(\n",
        "    test_loss, correct, len(test_loader.dataset),\n",
        "    100. * correct / len(test_loader.dataset)))"
      ],
      "execution_count": 0,
      "outputs": []
    },
    {
      "cell_type": "code",
      "metadata": {
        "id": "IH8WhNb66lOP",
        "colab_type": "code",
        "outputId": "1170fc5d-9691-490d-d07a-c18ab9840694",
        "colab": {
          "base_uri": "https://localhost:8080/",
          "height": 3573
        }
      },
      "source": [
        "my_test()\n",
        "for epoch in range(1, n_epochs+1):\n",
        "  my_train(epoch)\n",
        "  my_test()\n",
        "\n",
        "for i in range(len(my_valid_accuracy_y)):\n",
        "  my_valid_accuracy_y[i] = round(my_valid_accuracy_y[i], 1)\n",
        "print(my_valid_accuracy_y)\n"
      ],
      "execution_count": 0,
      "outputs": [
        {
          "output_type": "stream",
          "text": [
            "/usr/local/lib/python3.6/dist-packages/ipykernel_launcher.py:14: UserWarning: Implicit dimension choice for log_softmax has been deprecated. Change the call to include dim=X as an argument.\n",
            "  \n",
            "/usr/local/lib/python3.6/dist-packages/torch/nn/_reduction.py:46: UserWarning: size_average and reduce args will be deprecated, please use reduction='sum' instead.\n",
            "  warnings.warn(warning.format(ret))\n"
          ],
          "name": "stderr"
        },
        {
          "output_type": "stream",
          "text": [
            "\n",
            "Test set: Avg. loss: 3.2978, Accuracy: 10/247 (4%)\n",
            "\n",
            "Train Epoch: 1 [0/1082 (0%)]\tLoss: 3.429143\n",
            "Train Epoch: 1 [160/1082 (15%)]\tLoss: 2.983573\n",
            "Train Epoch: 1 [320/1082 (29%)]\tLoss: 2.730349\n",
            "Train Epoch: 1 [480/1082 (44%)]\tLoss: 2.675689\n",
            "Train Epoch: 1 [640/1082 (59%)]\tLoss: 2.536220\n",
            "Train Epoch: 1 [800/1082 (74%)]\tLoss: 2.004917\n",
            "Train Epoch: 1 [960/1082 (88%)]\tLoss: 2.549374\n",
            "\n",
            "Test set: Avg. loss: 2.1637, Accuracy: 102/247 (41%)\n",
            "\n",
            "Train Epoch: 2 [0/1082 (0%)]\tLoss: 1.885460\n",
            "Train Epoch: 2 [160/1082 (15%)]\tLoss: 2.163945\n",
            "Train Epoch: 2 [320/1082 (29%)]\tLoss: 1.807996\n",
            "Train Epoch: 2 [480/1082 (44%)]\tLoss: 2.117930\n",
            "Train Epoch: 2 [640/1082 (59%)]\tLoss: 1.529805\n",
            "Train Epoch: 2 [800/1082 (74%)]\tLoss: 1.395596\n",
            "Train Epoch: 2 [960/1082 (88%)]\tLoss: 1.636596\n",
            "\n",
            "Test set: Avg. loss: 1.7645, Accuracy: 133/247 (53%)\n",
            "\n",
            "Train Epoch: 3 [0/1082 (0%)]\tLoss: 0.994275\n",
            "Train Epoch: 3 [160/1082 (15%)]\tLoss: 1.043802\n",
            "Train Epoch: 3 [320/1082 (29%)]\tLoss: 1.380102\n",
            "Train Epoch: 3 [480/1082 (44%)]\tLoss: 0.877101\n",
            "Train Epoch: 3 [640/1082 (59%)]\tLoss: 1.110123\n",
            "Train Epoch: 3 [800/1082 (74%)]\tLoss: 0.829465\n",
            "Train Epoch: 3 [960/1082 (88%)]\tLoss: 0.936121\n",
            "\n",
            "Test set: Avg. loss: 1.7130, Accuracy: 133/247 (53%)\n",
            "\n",
            "Train Epoch: 4 [0/1082 (0%)]\tLoss: 1.038467\n",
            "Train Epoch: 4 [160/1082 (15%)]\tLoss: 1.162294\n",
            "Train Epoch: 4 [320/1082 (29%)]\tLoss: 0.692571\n",
            "Train Epoch: 4 [480/1082 (44%)]\tLoss: 0.679257\n",
            "Train Epoch: 4 [640/1082 (59%)]\tLoss: 0.998169\n",
            "Train Epoch: 4 [800/1082 (74%)]\tLoss: 0.844188\n",
            "Train Epoch: 4 [960/1082 (88%)]\tLoss: 0.909021\n",
            "\n",
            "Test set: Avg. loss: 1.6007, Accuracy: 141/247 (57%)\n",
            "\n",
            "Train Epoch: 5 [0/1082 (0%)]\tLoss: 1.136257\n",
            "Train Epoch: 5 [160/1082 (15%)]\tLoss: 0.820881\n",
            "Train Epoch: 5 [320/1082 (29%)]\tLoss: 0.633595\n",
            "Train Epoch: 5 [480/1082 (44%)]\tLoss: 0.766335\n",
            "Train Epoch: 5 [640/1082 (59%)]\tLoss: 0.690343\n",
            "Train Epoch: 5 [800/1082 (74%)]\tLoss: 0.971458\n",
            "Train Epoch: 5 [960/1082 (88%)]\tLoss: 0.937970\n",
            "\n",
            "Test set: Avg. loss: 1.5185, Accuracy: 148/247 (59%)\n",
            "\n",
            "Train Epoch: 6 [0/1082 (0%)]\tLoss: 0.852870\n",
            "Train Epoch: 6 [160/1082 (15%)]\tLoss: 0.338495\n",
            "Train Epoch: 6 [320/1082 (29%)]\tLoss: 0.689125\n",
            "Train Epoch: 6 [480/1082 (44%)]\tLoss: 0.751465\n",
            "Train Epoch: 6 [640/1082 (59%)]\tLoss: 0.949303\n",
            "Train Epoch: 6 [800/1082 (74%)]\tLoss: 0.538317\n",
            "Train Epoch: 6 [960/1082 (88%)]\tLoss: 0.527634\n",
            "\n",
            "Test set: Avg. loss: 1.4578, Accuracy: 154/247 (62%)\n",
            "\n",
            "Train Epoch: 7 [0/1082 (0%)]\tLoss: 0.462985\n",
            "Train Epoch: 7 [160/1082 (15%)]\tLoss: 0.718869\n",
            "Train Epoch: 7 [320/1082 (29%)]\tLoss: 0.519023\n",
            "Train Epoch: 7 [480/1082 (44%)]\tLoss: 0.421019\n",
            "Train Epoch: 7 [640/1082 (59%)]\tLoss: 0.757371\n",
            "Train Epoch: 7 [800/1082 (74%)]\tLoss: 0.675616\n",
            "Train Epoch: 7 [960/1082 (88%)]\tLoss: 0.752537\n",
            "\n",
            "Test set: Avg. loss: 1.4738, Accuracy: 147/247 (59%)\n",
            "\n",
            "Train Epoch: 8 [0/1082 (0%)]\tLoss: 0.414204\n",
            "Train Epoch: 8 [160/1082 (15%)]\tLoss: 0.828976\n",
            "Train Epoch: 8 [320/1082 (29%)]\tLoss: 0.433562\n",
            "Train Epoch: 8 [480/1082 (44%)]\tLoss: 0.317720\n",
            "Train Epoch: 8 [640/1082 (59%)]\tLoss: 0.607099\n",
            "Train Epoch: 8 [800/1082 (74%)]\tLoss: 0.835147\n",
            "Train Epoch: 8 [960/1082 (88%)]\tLoss: 0.392760\n",
            "\n",
            "Test set: Avg. loss: 1.3942, Accuracy: 154/247 (62%)\n",
            "\n",
            "Train Epoch: 9 [0/1082 (0%)]\tLoss: 0.455436\n",
            "Train Epoch: 9 [160/1082 (15%)]\tLoss: 0.213153\n",
            "Train Epoch: 9 [320/1082 (29%)]\tLoss: 0.575426\n",
            "Train Epoch: 9 [480/1082 (44%)]\tLoss: 0.325049\n",
            "Train Epoch: 9 [640/1082 (59%)]\tLoss: 0.419916\n",
            "Train Epoch: 9 [800/1082 (74%)]\tLoss: 0.224423\n",
            "Train Epoch: 9 [960/1082 (88%)]\tLoss: 0.863783\n",
            "\n",
            "Test set: Avg. loss: 1.4460, Accuracy: 153/247 (61%)\n",
            "\n",
            "Train Epoch: 10 [0/1082 (0%)]\tLoss: 0.558985\n",
            "Train Epoch: 10 [160/1082 (15%)]\tLoss: 0.137294\n",
            "Train Epoch: 10 [320/1082 (29%)]\tLoss: 0.139486\n",
            "Train Epoch: 10 [480/1082 (44%)]\tLoss: 0.389861\n",
            "Train Epoch: 10 [640/1082 (59%)]\tLoss: 0.343340\n",
            "Train Epoch: 10 [800/1082 (74%)]\tLoss: 0.162650\n",
            "Train Epoch: 10 [960/1082 (88%)]\tLoss: 0.159849\n",
            "\n",
            "Test set: Avg. loss: 1.4476, Accuracy: 158/247 (63%)\n",
            "\n",
            "Train Epoch: 11 [0/1082 (0%)]\tLoss: 0.163193\n",
            "Train Epoch: 11 [160/1082 (15%)]\tLoss: 0.098723\n",
            "Train Epoch: 11 [320/1082 (29%)]\tLoss: 0.192731\n",
            "Train Epoch: 11 [480/1082 (44%)]\tLoss: 0.161266\n",
            "Train Epoch: 11 [640/1082 (59%)]\tLoss: 0.146665\n",
            "Train Epoch: 11 [800/1082 (74%)]\tLoss: 0.123159\n",
            "Train Epoch: 11 [960/1082 (88%)]\tLoss: 0.357156\n",
            "\n",
            "Test set: Avg. loss: 1.4871, Accuracy: 157/247 (63%)\n",
            "\n",
            "Train Epoch: 12 [0/1082 (0%)]\tLoss: 0.146372\n",
            "Train Epoch: 12 [160/1082 (15%)]\tLoss: 0.195089\n",
            "Train Epoch: 12 [320/1082 (29%)]\tLoss: 0.126507\n",
            "Train Epoch: 12 [480/1082 (44%)]\tLoss: 0.174830\n",
            "Train Epoch: 12 [640/1082 (59%)]\tLoss: 0.265180\n",
            "Train Epoch: 12 [800/1082 (74%)]\tLoss: 0.106061\n",
            "Train Epoch: 12 [960/1082 (88%)]\tLoss: 0.172477\n",
            "\n",
            "Test set: Avg. loss: 1.5936, Accuracy: 151/247 (61%)\n",
            "\n",
            "Train Epoch: 13 [0/1082 (0%)]\tLoss: 0.276731\n",
            "Train Epoch: 13 [160/1082 (15%)]\tLoss: 0.156581\n",
            "Train Epoch: 13 [320/1082 (29%)]\tLoss: 0.225361\n",
            "Train Epoch: 13 [480/1082 (44%)]\tLoss: 0.259053\n",
            "Train Epoch: 13 [640/1082 (59%)]\tLoss: 0.105993\n",
            "Train Epoch: 13 [800/1082 (74%)]\tLoss: 0.108893\n",
            "Train Epoch: 13 [960/1082 (88%)]\tLoss: 0.270056\n",
            "\n",
            "Test set: Avg. loss: 1.4849, Accuracy: 157/247 (63%)\n",
            "\n",
            "Train Epoch: 14 [0/1082 (0%)]\tLoss: 0.141539\n",
            "Train Epoch: 14 [160/1082 (15%)]\tLoss: 0.074533\n",
            "Train Epoch: 14 [320/1082 (29%)]\tLoss: 0.200802\n",
            "Train Epoch: 14 [480/1082 (44%)]\tLoss: 0.061168\n",
            "Train Epoch: 14 [640/1082 (59%)]\tLoss: 0.201907\n",
            "Train Epoch: 14 [800/1082 (74%)]\tLoss: 0.259882\n",
            "Train Epoch: 14 [960/1082 (88%)]\tLoss: 0.168795\n",
            "\n",
            "Test set: Avg. loss: 1.5574, Accuracy: 154/247 (62%)\n",
            "\n",
            "Train Epoch: 15 [0/1082 (0%)]\tLoss: 0.028125\n",
            "Train Epoch: 15 [160/1082 (15%)]\tLoss: 0.063803\n",
            "Train Epoch: 15 [320/1082 (29%)]\tLoss: 0.072686\n",
            "Train Epoch: 15 [480/1082 (44%)]\tLoss: 0.060485\n",
            "Train Epoch: 15 [640/1082 (59%)]\tLoss: 0.136697\n",
            "Train Epoch: 15 [800/1082 (74%)]\tLoss: 0.168829\n",
            "Train Epoch: 15 [960/1082 (88%)]\tLoss: 0.058129\n",
            "\n",
            "Test set: Avg. loss: 1.5846, Accuracy: 156/247 (63%)\n",
            "\n",
            "Train Epoch: 16 [0/1082 (0%)]\tLoss: 0.131685\n",
            "Train Epoch: 16 [160/1082 (15%)]\tLoss: 0.067151\n",
            "Train Epoch: 16 [320/1082 (29%)]\tLoss: 0.133543\n",
            "Train Epoch: 16 [480/1082 (44%)]\tLoss: 0.085279\n",
            "Train Epoch: 16 [640/1082 (59%)]\tLoss: 0.039218\n",
            "Train Epoch: 16 [800/1082 (74%)]\tLoss: 0.080309\n",
            "Train Epoch: 16 [960/1082 (88%)]\tLoss: 0.021745\n",
            "\n",
            "Test set: Avg. loss: 1.5937, Accuracy: 156/247 (63%)\n",
            "\n",
            "Train Epoch: 17 [0/1082 (0%)]\tLoss: 0.038208\n",
            "Train Epoch: 17 [160/1082 (15%)]\tLoss: 0.044295\n",
            "Train Epoch: 17 [320/1082 (29%)]\tLoss: 0.104418\n",
            "Train Epoch: 17 [480/1082 (44%)]\tLoss: 0.053905\n",
            "Train Epoch: 17 [640/1082 (59%)]\tLoss: 0.067426\n",
            "Train Epoch: 17 [800/1082 (74%)]\tLoss: 0.050818\n",
            "Train Epoch: 17 [960/1082 (88%)]\tLoss: 0.043479\n",
            "\n",
            "Test set: Avg. loss: 1.6827, Accuracy: 153/247 (61%)\n",
            "\n",
            "Train Epoch: 18 [0/1082 (0%)]\tLoss: 0.056584\n",
            "Train Epoch: 18 [160/1082 (15%)]\tLoss: 0.051177\n",
            "Train Epoch: 18 [320/1082 (29%)]\tLoss: 0.133400\n",
            "Train Epoch: 18 [480/1082 (44%)]\tLoss: 0.024858\n",
            "Train Epoch: 18 [640/1082 (59%)]\tLoss: 0.040070\n",
            "Train Epoch: 18 [800/1082 (74%)]\tLoss: 0.057975\n",
            "Train Epoch: 18 [960/1082 (88%)]\tLoss: 0.050534\n",
            "\n",
            "Test set: Avg. loss: 1.6303, Accuracy: 158/247 (63%)\n",
            "\n",
            "Train Epoch: 19 [0/1082 (0%)]\tLoss: 0.082575\n",
            "Train Epoch: 19 [160/1082 (15%)]\tLoss: 0.010268\n",
            "Train Epoch: 19 [320/1082 (29%)]\tLoss: 0.077239\n",
            "Train Epoch: 19 [480/1082 (44%)]\tLoss: 0.026775\n",
            "Train Epoch: 19 [640/1082 (59%)]\tLoss: 0.040677\n",
            "Train Epoch: 19 [800/1082 (74%)]\tLoss: 0.066111\n",
            "Train Epoch: 19 [960/1082 (88%)]\tLoss: 0.064703\n",
            "\n",
            "Test set: Avg. loss: 1.7077, Accuracy: 158/247 (63%)\n",
            "\n",
            "Train Epoch: 20 [0/1082 (0%)]\tLoss: 0.019920\n",
            "Train Epoch: 20 [160/1082 (15%)]\tLoss: 0.038904\n",
            "Train Epoch: 20 [320/1082 (29%)]\tLoss: 0.068097\n",
            "Train Epoch: 20 [480/1082 (44%)]\tLoss: 0.028106\n",
            "Train Epoch: 20 [640/1082 (59%)]\tLoss: 0.020904\n",
            "Train Epoch: 20 [800/1082 (74%)]\tLoss: 0.036301\n",
            "Train Epoch: 20 [960/1082 (88%)]\tLoss: 0.021430\n",
            "\n",
            "Test set: Avg. loss: 1.8029, Accuracy: 156/247 (63%)\n",
            "\n",
            "[4.0, 41.3, 53.8, 53.8, 57.1, 59.9, 62.3, 59.5, 62.3, 61.9, 64.0, 63.6, 61.1, 63.6, 62.3, 63.2, 63.2, 61.9, 64.0, 64.0, 63.2]\n"
          ],
          "name": "stdout"
        }
      ]
    },
    {
      "cell_type": "markdown",
      "metadata": {
        "id": "1qxf_bkxCzQF",
        "colab_type": "text"
      },
      "source": [
        "# Evaluation Figures "
      ]
    },
    {
      "cell_type": "code",
      "metadata": {
        "id": "cqYTh8lG6yUe",
        "colab_type": "code",
        "outputId": "62d5ae32-87fc-4234-f7fc-0155d3d45690",
        "colab": {
          "base_uri": "https://localhost:8080/",
          "height": 549
        }
      },
      "source": [
        "fig = plt.figure()\n",
        "plt.scatter(my_train_counter, my_train_losses, color='blue')\n",
        "plt.scatter(my_test_counter, my_test_losses, color='red')\n",
        "plt.legend(['Train Loss', 'Validation Loss'], loc='upper right')\n",
        "plt.xlabel('number of training examples seen', color = 'black')\n",
        "plt.ylabel('negative log likelihood loss', color = 'black')\n",
        "fig\n"
      ],
      "execution_count": 0,
      "outputs": [
        {
          "output_type": "execute_result",
          "data": {
            "image/png": "[encoded data removed]",
            "text/plain": [
              "<Figure size 432x288 with 1 Axes>"
            ]
          },
          "metadata": {
            "tags": []
          },
          "execution_count": 379
        },
        {
          "output_type": "display_data",
          "data": {
            "image/png": "[encoded data removed]",
            "text/plain": [
              "<Figure size 432x288 with 1 Axes>"
            ]
          },
          "metadata": {
            "tags": []
          }
        }
      ]
    },
    {
      "cell_type": "code",
      "metadata": {
        "id": "rncj7TsrLAgG",
        "colab_type": "code",
        "outputId": "84374991-7660-4ac1-9e85-0cadacfa9859",
        "colab": {
          "base_uri": "https://localhost:8080/",
          "height": 549
        }
      },
      "source": [
        "fig = plt.figure()\n",
        "plt.plot(my_valid_accuracy_x, my_valid_accuracy_y, color='red')\n",
        "plt.legend(['Validation Accuracy'], loc='lower right')\n",
        "plt.xlabel('number of epochs', color = 'black')\n",
        "plt.ylabel('accuracy percentage', color = 'black')\n",
        "fig"
      ],
      "execution_count": 0,
      "outputs": [
        {
          "output_type": "execute_result",
          "data": {
            "image/png": "[encoded data removed]",
            "text/plain": [
              "<Figure size 432x288 with 1 Axes>"
            ]
          },
          "metadata": {
            "tags": []
          },
          "execution_count": 380
        },
        {
          "output_type": "display_data",
          "data": {
            "image/png": "[encoded data removed]",
            "text/plain": [
              "<Figure size 432x288 with 1 Axes>"
            ]
          },
          "metadata": {
            "tags": []
          }
        }
      ]
    },
    {
      "cell_type": "code",
      "metadata": {
        "id": "-JJ3QVmq9oJM",
        "colab_type": "code",
        "colab": {}
      },
      "source": [
        ""
      ],
      "execution_count": 0,
      "outputs": []
    }
  ]
}